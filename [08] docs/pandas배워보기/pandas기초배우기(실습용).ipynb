{
 "cells": [
  {
   "cell_type": "markdown",
   "metadata": {},
   "source": [
    "# Chapter 0. 기본 중의 기본\n",
    "## Pandas는 무엇인가??\n",
    "#### 왜 pandas를 사용할까?\n",
    "* pandas 사이트에 있는 소개  \n",
    "  pandas is a fast, powerful, flexible and easy to use open source data analysis and manipulation tool,built on top of the Python programming language.  \n",
    "  파파고 : 팬더는 빠르고 강력하며 유연하며 사용하기 쉬운 Python 프로그래밍 언어 위에 구축된 오픈 소스 데이터 분석 및 조작 도구다.\n",
    "  \n",
    "    \n",
    "* 특징(발번역..)\n",
    "in-memory 데이터 구조와 CSV 및 텍스트 파일, Microsoft Excel, SQL 데이터베이스 및 고속 HDF5 형식 같은 데이터 형식 읽고 쓰기 가능  \n",
    "지능형 데이터 정렬 및 누락 데이터의 통합 처리: 연산 시 자동 label-based 정렬, 데이터를 정렬형태로 쉽게 조작가능  \n",
    "데이터 구조에서 열을 삽입 및 삭제 가능(가변성)  \n",
    "고성능 데이터 세트 병합 및 결합 등등  \n",
    "**요약하자면 큰 사이즈의 데이터를 조작하기 쉽다는 장점, 오픈소스 그리고 python으로 되어있다.**\n",
    "\n",
    "---\n",
    "### pandas 라이브러리 불러오기  \n",
    "pandas는 pd로 축약해서 쓰는게 국룰"
   ]
  },
  {
   "cell_type": "code",
   "execution_count": 1,
   "metadata": {},
   "outputs": [],
   "source": [
    "import pandas as pd"
   ]
  },
  {
   "cell_type": "markdown",
   "metadata": {},
   "source": [
    "---\n",
    "### 데이터프레임 불러오기"
   ]
  },
  {
   "cell_type": "markdown",
   "metadata": {},
   "source": [
    "pd.read_csv([파일경로/파일이름]) 으로 불러오자  \n",
    "**read_csv의 옵션들은 <code>pd.read_csv?</code>나 <code>pd.read_csv(에서 shift+tab+tab</code> 으로 확인가능**"
   ]
  },
  {
   "cell_type": "code",
   "execution_count": 3,
   "metadata": {},
   "outputs": [],
   "source": [
    "# 실습 : df 변수에 파일을 불러와서 할당하기\n",
    "# 불러올 파일 : ./data/5월_대전_아파트(매매)실거래가.csv  \n",
    "# encoding=\"ANSI\"  (인코딩)\n",
    "# sep=\",\"  (구분자)\n",
    "df = pd.read_csv('./data/5월_대전_아파트(매매)실거래가.csv', encoding=\"ANSI\", sep=\",\")"
   ]
  },
  {
   "cell_type": "markdown",
   "metadata": {},
   "source": [
    "파일을 불러왔으면 봐야하는데 어떻게 봐야할까??\n",
    "1. df (전체 표시, 그러나 길면 일부는 생략됨)  \n",
    "2. df.head(n) (위에서부터 n개 표시, 기본값 5)\n",
    "3. df.tail(n) (끝에서부터 n개 표시, 기본값 5)"
   ]
  },
  {
   "cell_type": "code",
   "execution_count": 10,
   "metadata": {},
   "outputs": [
    {
     "data": {
      "text/html": [
       "<div>\n",
       "<style scoped>\n",
       "    .dataframe tbody tr th:only-of-type {\n",
       "        vertical-align: middle;\n",
       "    }\n",
       "\n",
       "    .dataframe tbody tr th {\n",
       "        vertical-align: top;\n",
       "    }\n",
       "\n",
       "    .dataframe thead th {\n",
       "        text-align: right;\n",
       "    }\n",
       "</style>\n",
       "<table border=\"1\" class=\"dataframe\">\n",
       "  <thead>\n",
       "    <tr style=\"text-align: right;\">\n",
       "      <th></th>\n",
       "      <th>시군구</th>\n",
       "      <th>번지</th>\n",
       "      <th>본번</th>\n",
       "      <th>부번</th>\n",
       "      <th>단지명</th>\n",
       "      <th>전용면적(㎡)</th>\n",
       "      <th>계약년월</th>\n",
       "      <th>계약일</th>\n",
       "      <th>거래금액(만원)</th>\n",
       "      <th>층</th>\n",
       "      <th>건축년도</th>\n",
       "      <th>도로명</th>\n",
       "    </tr>\n",
       "  </thead>\n",
       "  <tbody>\n",
       "    <tr>\n",
       "      <th>0</th>\n",
       "      <td>대전광역시 대덕구 대화동</td>\n",
       "      <td>27-7</td>\n",
       "      <td>27</td>\n",
       "      <td>7</td>\n",
       "      <td>금강</td>\n",
       "      <td>56.2600</td>\n",
       "      <td>202005</td>\n",
       "      <td>25</td>\n",
       "      <td>7,000</td>\n",
       "      <td>5</td>\n",
       "      <td>1978</td>\n",
       "      <td>대전로 1247</td>\n",
       "    </tr>\n",
       "    <tr>\n",
       "      <th>1</th>\n",
       "      <td>대전광역시 대덕구 대화동</td>\n",
       "      <td>16-2</td>\n",
       "      <td>16</td>\n",
       "      <td>2</td>\n",
       "      <td>금성백조</td>\n",
       "      <td>63.0750</td>\n",
       "      <td>202005</td>\n",
       "      <td>11</td>\n",
       "      <td>8,700</td>\n",
       "      <td>3</td>\n",
       "      <td>1985</td>\n",
       "      <td>대화로 19</td>\n",
       "    </tr>\n",
       "    <tr>\n",
       "      <th>2</th>\n",
       "      <td>대전광역시 대덕구 대화동</td>\n",
       "      <td>16-2</td>\n",
       "      <td>16</td>\n",
       "      <td>2</td>\n",
       "      <td>금성백조</td>\n",
       "      <td>70.4250</td>\n",
       "      <td>202005</td>\n",
       "      <td>26</td>\n",
       "      <td>9,000</td>\n",
       "      <td>5</td>\n",
       "      <td>1985</td>\n",
       "      <td>대화로 19</td>\n",
       "    </tr>\n",
       "    <tr>\n",
       "      <th>3</th>\n",
       "      <td>대전광역시 대덕구 대화동</td>\n",
       "      <td>40-67</td>\n",
       "      <td>40</td>\n",
       "      <td>67</td>\n",
       "      <td>대화</td>\n",
       "      <td>49.0000</td>\n",
       "      <td>202005</td>\n",
       "      <td>12</td>\n",
       "      <td>3,400</td>\n",
       "      <td>3</td>\n",
       "      <td>1979</td>\n",
       "      <td>대화로 53</td>\n",
       "    </tr>\n",
       "    <tr>\n",
       "      <th>4</th>\n",
       "      <td>대전광역시 대덕구 대화동</td>\n",
       "      <td>31-36</td>\n",
       "      <td>31</td>\n",
       "      <td>36</td>\n",
       "      <td>두레</td>\n",
       "      <td>35.8818</td>\n",
       "      <td>202005</td>\n",
       "      <td>4</td>\n",
       "      <td>7,500</td>\n",
       "      <td>2</td>\n",
       "      <td>2001</td>\n",
       "      <td>대화1길 77</td>\n",
       "    </tr>\n",
       "  </tbody>\n",
       "</table>\n",
       "</div>"
      ],
      "text/plain": [
       "             시군구     번지  본번  부번   단지명  전용면적(㎡)    계약년월  계약일 거래금액(만원)  층  건축년도  \\\n",
       "0  대전광역시 대덕구 대화동   27-7  27   7    금강  56.2600  202005   25    7,000  5  1978   \n",
       "1  대전광역시 대덕구 대화동   16-2  16   2  금성백조  63.0750  202005   11    8,700  3  1985   \n",
       "2  대전광역시 대덕구 대화동   16-2  16   2  금성백조  70.4250  202005   26    9,000  5  1985   \n",
       "3  대전광역시 대덕구 대화동  40-67  40  67    대화  49.0000  202005   12    3,400  3  1979   \n",
       "4  대전광역시 대덕구 대화동  31-36  31  36    두레  35.8818  202005    4    7,500  2  2001   \n",
       "\n",
       "        도로명  \n",
       "0  대전로 1247  \n",
       "1    대화로 19  \n",
       "2    대화로 19  \n",
       "3    대화로 53  \n",
       "4   대화1길 77  "
      ]
     },
     "execution_count": 10,
     "metadata": {},
     "output_type": "execute_result"
    }
   ],
   "source": [
    "# 실습 : df를 위에서부터 5개를 표시해보자\n",
    "df.head()"
   ]
  },
  {
   "cell_type": "markdown",
   "metadata": {},
   "source": [
    "---\n",
    "### 데이터프레임 컬럼 확인하기  \n",
    "[데이터프레임].columns 로 확인하자"
   ]
  },
  {
   "cell_type": "code",
   "execution_count": 11,
   "metadata": {},
   "outputs": [
    {
     "data": {
      "text/plain": [
       "Index(['시군구', '번지', '본번', '부번', '단지명', '전용면적(㎡)', '계약년월', '계약일', '거래금액(만원)',\n",
       "       '층', '건축년도', '도로명'],\n",
       "      dtype='object')"
      ]
     },
     "execution_count": 11,
     "metadata": {},
     "output_type": "execute_result"
    }
   ],
   "source": [
    "# 실습 : df의 컬럼들의 목록을 확인해보자\n",
    "df.columns"
   ]
  },
  {
   "cell_type": "markdown",
   "metadata": {},
   "source": [
    "# Chapter 1. 데이터프레임 깔짝대기"
   ]
  },
  {
   "cell_type": "markdown",
   "metadata": {},
   "source": [
    "### 컬럼이름 변경하기  \n",
    "df.rename을 사용해서 바꿔보자  \n",
    "rename? 으로 옵션을 확인할 수 있음  \n",
    "column이름을 바꿀거니까 rename(columns={})를 사용할 건데, 바꿀 컬럼이름들은 dict형태로 넘겨줌  \n",
    "<code>df.rename(columns={'기존이름':'바꿀이름'})</code>"
   ]
  },
  {
   "cell_type": "code",
   "execution_count": null,
   "metadata": {},
   "outputs": [],
   "source": [
    "# 실습 : 컬럼 이름을 바꿔보자\n",
    "# 바꿀 내용들 : \"전용면적(㎡)\" -> \"전용면적\"  \n",
    "#               \"거래금액(만원)\" -> \"거래금액\"\n"
   ]
  },
  {
   "cell_type": "code",
   "execution_count": null,
   "metadata": {},
   "outputs": [],
   "source": [
    "# df.colums띄워보기\n"
   ]
  },
  {
   "cell_type": "markdown",
   "metadata": {},
   "source": [
    "아까 바꾼거같죠 ㅋ 근데 사실 안바뀜 ㅋ 보여지기는 바꿔서 보여주지만 재할당을 하거나, 적용을 시켜주는 옵션을 넣어줘야함\n",
    "1. <code>df.rename(columns={'전용면적(㎡)':'전용면적','거래금액(만원)' : '거래금액' }, inplace=True)</code>  \n",
    "2. <code>df = df.rename(columns={'전용면적(㎡)':'전용면적','거래금액(만원)' : '거래금액' })</code>"
   ]
  },
  {
   "cell_type": "code",
   "execution_count": null,
   "metadata": {},
   "outputs": [],
   "source": [
    "# 실습 : 컬럼 이름 변경을 할당하게끔 다시 시도\n"
   ]
  },
  {
   "cell_type": "code",
   "execution_count": 12,
   "metadata": {},
   "outputs": [
    {
     "data": {
      "text/plain": [
       "시군구          object\n",
       "번지           object\n",
       "본번            int64\n",
       "부번            int64\n",
       "단지명          object\n",
       "전용면적(㎡)     float64\n",
       "계약년월          int64\n",
       "계약일           int64\n",
       "거래금액(만원)     object\n",
       "층             int64\n",
       "건축년도          int64\n",
       "도로명          object\n",
       "dtype: object"
      ]
     },
     "execution_count": 12,
     "metadata": {},
     "output_type": "execute_result"
    }
   ],
   "source": [
    "# 실습 : 컬럼목록 재확인하기\n",
    "df.dtypes"
   ]
  },
  {
   "cell_type": "markdown",
   "metadata": {},
   "source": [
    "---\n",
    "### 인덱스 조작하기\n",
    "보통 row조작, column조작, 둘다 조작이 있지만, row는 이번 프로젝트에서 쓴 경험이 없다..!  \n",
    "그러므로 column 조작만 해봅시다..\n",
    "* 특정 컬럼이름으로 불러오기  \n",
    "  - 1개 컬럼  \n",
    "   <code> df['컬럼이름'] </code>\n",
    "  - 여러개 컬럼  \n",
    "   <code> df[['컬럼1','컬럼2']]</code>  \n",
    "   \n",
    "   \n",
    "* 조건을 만족하는 값 불러오기  \n",
    "(데이터프레임[컬럼명] 조건) 이렇게 적으면 각 행에 대해 조건 만족여부(true,false)가 나오므로,  \n",
    "데이터프레임으로 한번 더 싸서 **해당조건을 만족하는 값**들만 나타나게 해야함\n",
    "  - 층이 10층 이상인 경우  \n",
    "   <code> df[df['층'] >=10] </code>\n",
    "  - 층이 10층 이상이고, 20층 이하인 경우  \n",
    "  조건이 2개이상인 경우 연산자 우선순위때문에 ()로 묶어주기  \n",
    "   <code> df[(df['층'] >=10) & (df['층']<=20)]</code>\n",
    "  - 값이 없는 칼럼은??  \n",
    "    <code>df[df['시군구'].isnull()]</code>\n",
    "  - 값이 있는 칼럼은??  \n",
    "    <code>df[df['시군구'].notnull()]</code>\n",
    "    \n",
    "str타입의 칼럼의 경우, str.contains(), str.split() 등을 쓸 수 있다"
   ]
  },
  {
   "cell_type": "code",
   "execution_count": null,
   "metadata": {},
   "outputs": [],
   "source": [
    "# 실습 : 건축년도가 2000 보다 큰 경우\n"
   ]
  },
  {
   "cell_type": "code",
   "execution_count": null,
   "metadata": {},
   "outputs": [],
   "source": [
    "# 실습 : 시군구에 대덕구가 포함된 경우\n"
   ]
  },
  {
   "cell_type": "code",
   "execution_count": null,
   "metadata": {},
   "outputs": [],
   "source": [
    "# 실습 : 시군구가 없는 경우\n"
   ]
  },
  {
   "cell_type": "markdown",
   "metadata": {},
   "source": [
    "### 데이터프레임 컬럼 타입 확인하기\n",
    "[데이터프레임저장한 변수].dtypes 으로 확인하자  \n",
    "dtype에서 object가 str이라고 생각하면 된다"
   ]
  },
  {
   "cell_type": "code",
   "execution_count": 13,
   "metadata": {},
   "outputs": [
    {
     "data": {
      "text/plain": [
       "시군구          object\n",
       "번지           object\n",
       "본번            int64\n",
       "부번            int64\n",
       "단지명          object\n",
       "전용면적(㎡)     float64\n",
       "계약년월          int64\n",
       "계약일           int64\n",
       "거래금액(만원)     object\n",
       "층             int64\n",
       "건축년도          int64\n",
       "도로명          object\n",
       "dtype: object"
      ]
     },
     "execution_count": 13,
     "metadata": {},
     "output_type": "execute_result"
    }
   ],
   "source": [
    "df.dtypes"
   ]
  },
  {
   "cell_type": "markdown",
   "metadata": {},
   "source": [
    "## 계약년월+계약일 으로 계약날짜 칼럼 만들기\n",
    "---"
   ]
  },
  {
   "cell_type": "code",
   "execution_count": null,
   "metadata": {},
   "outputs": [],
   "source": [
    "# 실행에 앞서 첫 줄만 띄워보자\n",
    "# 실습 : df의 첫번째 row만 출력하기 (힌트 : head() 이용)\n"
   ]
  },
  {
   "cell_type": "markdown",
   "metadata": {},
   "source": [
    "### 컬럼 값 확인하기\n",
    "1. 중복없이 값 확인하기 - unique()  \n",
    "<code>df['컬럼명'].unique</code>\n",
    "2. 값이 몇개씩 있는지 확인하기 - value_counts()  \n",
    "<code> df['컬럼명'].value_counts()</code>"
   ]
  },
  {
   "cell_type": "code",
   "execution_count": null,
   "metadata": {},
   "outputs": [],
   "source": [
    "# 실습 : 시군구가 몇개씩 있는지 확인하기\n"
   ]
  },
  {
   "cell_type": "code",
   "execution_count": null,
   "metadata": {},
   "outputs": [],
   "source": [
    "# 실습 : 계약일이 중복없이 무슨 값이 있는지 확인하기\n"
   ]
  },
  {
   "cell_type": "markdown",
   "metadata": {},
   "source": [
    "#### 한자리 수를 가진 일(날짜)에 0을 추가해야겠다.."
   ]
  },
  {
   "cell_type": "markdown",
   "metadata": {},
   "source": [
    "### 데이터타입 변경하기  \n",
    "[계약년월]과 [계약일]이 int타입이므로 다루기 쉽게 str(object)로 바꾸자  \n",
    "astype을 이용해서 rename-columns처럼 dict형식으로 주면됨   \n",
    "<code>astype({'컬럼이름':타입, '컬럼이름1':타입})</code>"
   ]
  },
  {
   "cell_type": "code",
   "execution_count": null,
   "metadata": {},
   "outputs": [],
   "source": [
    "# 실습 : 계약년월, 계약일 컬럼을 str 타입으로 바꾸자  \n",
    "# 질문, 이거는 바로 반영될까, 아니면 아까처럼 할당을 따로 해줘야할까?\n",
    "df.astype()"
   ]
  },
  {
   "cell_type": "code",
   "execution_count": null,
   "metadata": {},
   "outputs": [],
   "source": [
    "# 확인하기\n"
   ]
  },
  {
   "cell_type": "markdown",
   "metadata": {},
   "source": [
    "### 계약일이 2자리 수로 맞춰있는 경우라면?? 훨신 간단했을텐데..  \n",
    "<code>df['계약날짜'] = df['계약년월']+df['계약일']</code>"
   ]
  },
  {
   "cell_type": "code",
   "execution_count": null,
   "metadata": {},
   "outputs": [],
   "source": [
    "df['계약날짜'] =df['계약년월']+df['계약일']"
   ]
  },
  {
   "cell_type": "code",
   "execution_count": 15,
   "metadata": {},
   "outputs": [
    {
     "data": {
      "text/html": [
       "<div>\n",
       "<style scoped>\n",
       "    .dataframe tbody tr th:only-of-type {\n",
       "        vertical-align: middle;\n",
       "    }\n",
       "\n",
       "    .dataframe tbody tr th {\n",
       "        vertical-align: top;\n",
       "    }\n",
       "\n",
       "    .dataframe thead th {\n",
       "        text-align: right;\n",
       "    }\n",
       "</style>\n",
       "<table border=\"1\" class=\"dataframe\">\n",
       "  <thead>\n",
       "    <tr style=\"text-align: right;\">\n",
       "      <th></th>\n",
       "      <th>시군구</th>\n",
       "      <th>번지</th>\n",
       "      <th>본번</th>\n",
       "      <th>부번</th>\n",
       "      <th>단지명</th>\n",
       "      <th>전용면적(㎡)</th>\n",
       "      <th>계약년월</th>\n",
       "      <th>계약일</th>\n",
       "      <th>거래금액(만원)</th>\n",
       "      <th>층</th>\n",
       "      <th>건축년도</th>\n",
       "      <th>도로명</th>\n",
       "      <th>계약날짜</th>\n",
       "    </tr>\n",
       "  </thead>\n",
       "  <tbody>\n",
       "    <tr>\n",
       "      <th>0</th>\n",
       "      <td>대전광역시 대덕구 대화동</td>\n",
       "      <td>27-7</td>\n",
       "      <td>27</td>\n",
       "      <td>7</td>\n",
       "      <td>금강</td>\n",
       "      <td>56.2600</td>\n",
       "      <td>202005</td>\n",
       "      <td>25</td>\n",
       "      <td>7,000</td>\n",
       "      <td>5</td>\n",
       "      <td>1978</td>\n",
       "      <td>대전로 1247</td>\n",
       "      <td>0</td>\n",
       "    </tr>\n",
       "    <tr>\n",
       "      <th>1</th>\n",
       "      <td>대전광역시 대덕구 대화동</td>\n",
       "      <td>16-2</td>\n",
       "      <td>16</td>\n",
       "      <td>2</td>\n",
       "      <td>금성백조</td>\n",
       "      <td>63.0750</td>\n",
       "      <td>202005</td>\n",
       "      <td>11</td>\n",
       "      <td>8,700</td>\n",
       "      <td>3</td>\n",
       "      <td>1985</td>\n",
       "      <td>대화로 19</td>\n",
       "      <td>0</td>\n",
       "    </tr>\n",
       "    <tr>\n",
       "      <th>2</th>\n",
       "      <td>대전광역시 대덕구 대화동</td>\n",
       "      <td>16-2</td>\n",
       "      <td>16</td>\n",
       "      <td>2</td>\n",
       "      <td>금성백조</td>\n",
       "      <td>70.4250</td>\n",
       "      <td>202005</td>\n",
       "      <td>26</td>\n",
       "      <td>9,000</td>\n",
       "      <td>5</td>\n",
       "      <td>1985</td>\n",
       "      <td>대화로 19</td>\n",
       "      <td>0</td>\n",
       "    </tr>\n",
       "    <tr>\n",
       "      <th>3</th>\n",
       "      <td>대전광역시 대덕구 대화동</td>\n",
       "      <td>40-67</td>\n",
       "      <td>40</td>\n",
       "      <td>67</td>\n",
       "      <td>대화</td>\n",
       "      <td>49.0000</td>\n",
       "      <td>202005</td>\n",
       "      <td>12</td>\n",
       "      <td>3,400</td>\n",
       "      <td>3</td>\n",
       "      <td>1979</td>\n",
       "      <td>대화로 53</td>\n",
       "      <td>0</td>\n",
       "    </tr>\n",
       "    <tr>\n",
       "      <th>4</th>\n",
       "      <td>대전광역시 대덕구 대화동</td>\n",
       "      <td>31-36</td>\n",
       "      <td>31</td>\n",
       "      <td>36</td>\n",
       "      <td>두레</td>\n",
       "      <td>35.8818</td>\n",
       "      <td>202005</td>\n",
       "      <td>4</td>\n",
       "      <td>7,500</td>\n",
       "      <td>2</td>\n",
       "      <td>2001</td>\n",
       "      <td>대화1길 77</td>\n",
       "      <td>0</td>\n",
       "    </tr>\n",
       "    <tr>\n",
       "      <th>...</th>\n",
       "      <td>...</td>\n",
       "      <td>...</td>\n",
       "      <td>...</td>\n",
       "      <td>...</td>\n",
       "      <td>...</td>\n",
       "      <td>...</td>\n",
       "      <td>...</td>\n",
       "      <td>...</td>\n",
       "      <td>...</td>\n",
       "      <td>...</td>\n",
       "      <td>...</td>\n",
       "      <td>...</td>\n",
       "      <td>...</td>\n",
       "    </tr>\n",
       "    <tr>\n",
       "      <th>2301</th>\n",
       "      <td>대전광역시 중구 태평동</td>\n",
       "      <td>389-5</td>\n",
       "      <td>389</td>\n",
       "      <td>5</td>\n",
       "      <td>파라곤</td>\n",
       "      <td>84.2360</td>\n",
       "      <td>202005</td>\n",
       "      <td>16</td>\n",
       "      <td>36,000</td>\n",
       "      <td>6</td>\n",
       "      <td>2005</td>\n",
       "      <td>유등천동로 428</td>\n",
       "      <td>0</td>\n",
       "    </tr>\n",
       "    <tr>\n",
       "      <th>2302</th>\n",
       "      <td>대전광역시 중구 태평동</td>\n",
       "      <td>389-5</td>\n",
       "      <td>389</td>\n",
       "      <td>5</td>\n",
       "      <td>파라곤</td>\n",
       "      <td>106.3750</td>\n",
       "      <td>202005</td>\n",
       "      <td>23</td>\n",
       "      <td>43,000</td>\n",
       "      <td>16</td>\n",
       "      <td>2005</td>\n",
       "      <td>유등천동로 428</td>\n",
       "      <td>0</td>\n",
       "    </tr>\n",
       "    <tr>\n",
       "      <th>2303</th>\n",
       "      <td>대전광역시 중구 태평동</td>\n",
       "      <td>254-4</td>\n",
       "      <td>254</td>\n",
       "      <td>4</td>\n",
       "      <td>푸른뫼</td>\n",
       "      <td>84.9900</td>\n",
       "      <td>202005</td>\n",
       "      <td>16</td>\n",
       "      <td>29,500</td>\n",
       "      <td>8</td>\n",
       "      <td>1999</td>\n",
       "      <td>수침로 122</td>\n",
       "      <td>0</td>\n",
       "    </tr>\n",
       "    <tr>\n",
       "      <th>2304</th>\n",
       "      <td>대전광역시 중구 태평동</td>\n",
       "      <td>254-4</td>\n",
       "      <td>254</td>\n",
       "      <td>4</td>\n",
       "      <td>푸른뫼</td>\n",
       "      <td>84.9900</td>\n",
       "      <td>202005</td>\n",
       "      <td>23</td>\n",
       "      <td>29,700</td>\n",
       "      <td>21</td>\n",
       "      <td>1999</td>\n",
       "      <td>수침로 122</td>\n",
       "      <td>0</td>\n",
       "    </tr>\n",
       "    <tr>\n",
       "      <th>2305</th>\n",
       "      <td>대전광역시 중구 태평동</td>\n",
       "      <td>254-4</td>\n",
       "      <td>254</td>\n",
       "      <td>4</td>\n",
       "      <td>푸른뫼</td>\n",
       "      <td>84.9900</td>\n",
       "      <td>202005</td>\n",
       "      <td>28</td>\n",
       "      <td>27,000</td>\n",
       "      <td>16</td>\n",
       "      <td>1999</td>\n",
       "      <td>수침로 122</td>\n",
       "      <td>0</td>\n",
       "    </tr>\n",
       "  </tbody>\n",
       "</table>\n",
       "<p>2306 rows × 13 columns</p>\n",
       "</div>"
      ],
      "text/plain": [
       "                시군구     번지   본번  부번   단지명   전용면적(㎡)    계약년월  계약일 거래금액(만원)   층  \\\n",
       "0     대전광역시 대덕구 대화동   27-7   27   7    금강   56.2600  202005   25    7,000   5   \n",
       "1     대전광역시 대덕구 대화동   16-2   16   2  금성백조   63.0750  202005   11    8,700   3   \n",
       "2     대전광역시 대덕구 대화동   16-2   16   2  금성백조   70.4250  202005   26    9,000   5   \n",
       "3     대전광역시 대덕구 대화동  40-67   40  67    대화   49.0000  202005   12    3,400   3   \n",
       "4     대전광역시 대덕구 대화동  31-36   31  36    두레   35.8818  202005    4    7,500   2   \n",
       "...             ...    ...  ...  ..   ...       ...     ...  ...      ...  ..   \n",
       "2301   대전광역시 중구 태평동  389-5  389   5   파라곤   84.2360  202005   16   36,000   6   \n",
       "2302   대전광역시 중구 태평동  389-5  389   5   파라곤  106.3750  202005   23   43,000  16   \n",
       "2303   대전광역시 중구 태평동  254-4  254   4   푸른뫼   84.9900  202005   16   29,500   8   \n",
       "2304   대전광역시 중구 태평동  254-4  254   4   푸른뫼   84.9900  202005   23   29,700  21   \n",
       "2305   대전광역시 중구 태평동  254-4  254   4   푸른뫼   84.9900  202005   28   27,000  16   \n",
       "\n",
       "      건축년도        도로명  계약날짜  \n",
       "0     1978   대전로 1247     0  \n",
       "1     1985     대화로 19     0  \n",
       "2     1985     대화로 19     0  \n",
       "3     1979     대화로 53     0  \n",
       "4     2001    대화1길 77     0  \n",
       "...    ...        ...   ...  \n",
       "2301  2005  유등천동로 428     0  \n",
       "2302  2005  유등천동로 428     0  \n",
       "2303  1999    수침로 122     0  \n",
       "2304  1999    수침로 122     0  \n",
       "2305  1999    수침로 122     0  \n",
       "\n",
       "[2306 rows x 13 columns]"
      ]
     },
     "execution_count": 15,
     "metadata": {},
     "output_type": "execute_result"
    }
   ],
   "source": [
    "df"
   ]
  },
  {
   "cell_type": "code",
   "execution_count": null,
   "metadata": {},
   "outputs": [],
   "source": [
    "df['계약날짜'].unique()"
   ]
  },
  {
   "cell_type": "markdown",
   "metadata": {},
   "source": [
    "하지만 **2020053** 같은 결과를 얻고싶지않아..  \n",
    "한자리 수 날짜인 경우에는 0을 추가하는 함수를 만들자!"
   ]
  },
  {
   "cell_type": "markdown",
   "metadata": {},
   "source": [
    "### apply 사용하기  \n",
    "def 함수(row):\n",
    "    함수 로직\n",
    "    \n",
    "할당까지 마쳐줘야함 ! 근데 다중칼럼 적용은 안되는 걸로 알고있음..\n",
    "* 함수를 특정 칼럼값만 넘겨주고 싶을 때  \n",
    "  - <code>df[새 칼럼] = df[컬럼명].apply(함수이름)</code>\n",
    "  \n",
    "* 함수를 row전체를 넘겨주고 싶을 때  \n",
    "  - <code>df[새 칼럼] = df.apply(함수이름,axis=1)</code>"
   ]
  },
  {
   "cell_type": "code",
   "execution_count": 16,
   "metadata": {},
   "outputs": [
    {
     "data": {
      "text/plain": [
       "array([25, 11, 26, 12,  4,  3,  6, 15, 18, 19, 20,  8, 22,  9, 21, 23,  1,\n",
       "       14, 30,  2, 13, 27,  7, 16, 28, 24, 29, 10,  5, 31, 17],\n",
       "      dtype=int64)"
      ]
     },
     "execution_count": 16,
     "metadata": {},
     "output_type": "execute_result"
    }
   ],
   "source": [
    "# 함수 결과 확인용\n",
    "df['계약일'].unique()"
   ]
  },
  {
   "cell_type": "code",
   "execution_count": null,
   "metadata": {},
   "outputs": [],
   "source": [
    "# 실습 : 계약일 칼럼에 def addZero()함수를 통과시켜서 한자리 숫자인경우에는 0을 붙여보자 !!\n",
    "# 1. 함수 정의하기  \n",
    "# 내용을 채워보자\n",
    "def addZero(day):\n",
    "    if len(day)==1:\n",
    "        \n",
    "        pass\n",
    "    else:\n",
    "        pass"
   ]
  },
  {
   "cell_type": "code",
   "execution_count": null,
   "metadata": {},
   "outputs": [],
   "source": [
    "# 실습 : df['계약일'] 칼럼에 addZero를 apply하는 내용을 적어보자\n"
   ]
  },
  {
   "cell_type": "code",
   "execution_count": null,
   "metadata": {},
   "outputs": [],
   "source": [
    "# 결과 :\n",
    "df['계약일'].unique()"
   ]
  },
  {
   "cell_type": "code",
   "execution_count": null,
   "metadata": {},
   "outputs": [],
   "source": [
    "# 실습 : 계약날짜를 계약년월 + 바꾼 계약일 로 바꾸기\n"
   ]
  },
  {
   "cell_type": "markdown",
   "metadata": {},
   "source": [
    "**만약 apply함수에 row를 줬다면, row['계약일'] 이런식으로 특정 칼럼의 값을 전달할 수 있음**"
   ]
  },
  {
   "cell_type": "code",
   "execution_count": null,
   "metadata": {},
   "outputs": [],
   "source": [
    "df.head(1)"
   ]
  },
  {
   "cell_type": "markdown",
   "metadata": {},
   "source": [
    "## 시군구 + 도로명으로 도로명주소 칼럼을 만들어보기(실습)\n",
    "---"
   ]
  },
  {
   "cell_type": "code",
   "execution_count": null,
   "metadata": {},
   "outputs": [],
   "source": [
    "# 실습 : 혹시 도로명주소가 없는게 있을까? isnull()로 확인하기\n"
   ]
  },
  {
   "cell_type": "code",
   "execution_count": null,
   "metadata": {},
   "outputs": [],
   "source": [
    "# 실습 : ['시군구']에서 동을 제외한(시,구) 내용과 ['도로명']을 합쳐서 새 칼럼인 ['도로명주소']를 만들어보자\n",
    "# 조건 : apply 사용(row 넘겨주기)\n",
    "# split(\" \")\n",
    "def getNewAddress(row):\n",
    "    pass\n",
    "    \n",
    "# apply 해보세요;"
   ]
  },
  {
   "cell_type": "markdown",
   "metadata": {},
   "source": [
    "### 위도경도 받아오기(참고)"
   ]
  },
  {
   "cell_type": "markdown",
   "metadata": {},
   "source": [
    "### 카카오 API 써서 주소가 덜 작성된거는 위도 경도로 새 주소로 업뎃해쥼\n",
    "```\n",
    "import requests\n",
    "import json\n",
    "\n",
    "headers = {\n",
    "\"Authorization\":\"KakaoAK 66447c8b7057c042f65ac177c53ea385\"\n",
    "}\n",
    "\n",
    "address = {}\n",
    "def getLatLong(addr):\n",
    "    if addr in address:\n",
    "        return address[addr]\n",
    "    else:\n",
    "        params = {'query': addr}\n",
    "        response = requests.get('https://dapi.kakao.com/v2/local/search/address.json', headers=headers, params=params)\n",
    "        count = response.json()['meta']['total_count']\n",
    "        if count!=0:\n",
    "            res = response.json()\n",
    "            try:\n",
    "                lat =res['documents'][0]['address']['y']\n",
    "                lon = res['documents'][0]['address']['x']\n",
    "                addr1 = res['documents'][0]['address']['region_1depth_name']\n",
    "                addr2 = res['documents'][0]['address']['region_2depth_name']\n",
    "                addr3 = res['documents'][0]['address']['region_3depth_name']\n",
    "                address[addr] = str(lon)+\"/\"+str(lat)\n",
    "                return address[addr]\n",
    "            except:\n",
    "                print(res)\n",
    "                return \"ERROR\"\n",
    "        else :\n",
    "            return \"NO\"\n",
    "\n",
    "df['latlon'] = df['도로명주소'].apply(getLatLong)\n",
    "```"
   ]
  },
  {
   "cell_type": "markdown",
   "metadata": {},
   "source": [
    "---\n",
    "## 파일 저장하기\n",
    "저장할데이터프레임.to_csv(경로+파일명,옵션) 으로 저장할 수 있다  \n",
    "옵션같은 경우는 마찬가지로 to_csv?나, to_csv(+shift+tab 으로 확인"
   ]
  },
  {
   "cell_type": "code",
   "execution_count": null,
   "metadata": {},
   "outputs": [],
   "source": [
    "# 실습 : df를 새 파일로 인덱스 없이 저장하자\n",
    "# 힌트 : 인덱스 없이??? 옵션한번 볼까??\n",
    "df.to_csv('./data/test.csv')"
   ]
  },
  {
   "cell_type": "code",
   "execution_count": 19,
   "metadata": {},
   "outputs": [
    {
     "data": {
      "text/html": [
       "<div>\n",
       "<style scoped>\n",
       "    .dataframe tbody tr th:only-of-type {\n",
       "        vertical-align: middle;\n",
       "    }\n",
       "\n",
       "    .dataframe tbody tr th {\n",
       "        vertical-align: top;\n",
       "    }\n",
       "\n",
       "    .dataframe thead th {\n",
       "        text-align: right;\n",
       "    }\n",
       "</style>\n",
       "<table border=\"1\" class=\"dataframe\">\n",
       "  <thead>\n",
       "    <tr style=\"text-align: right;\">\n",
       "      <th></th>\n",
       "      <th>Unnamed: 0</th>\n",
       "      <th>시군구</th>\n",
       "      <th>번지</th>\n",
       "      <th>본번</th>\n",
       "      <th>부번</th>\n",
       "      <th>단지명</th>\n",
       "      <th>전용면적(㎡)</th>\n",
       "      <th>계약년월</th>\n",
       "      <th>계약일</th>\n",
       "      <th>거래금액(만원)</th>\n",
       "      <th>층</th>\n",
       "      <th>건축년도</th>\n",
       "      <th>도로명</th>\n",
       "      <th>계약날짜</th>\n",
       "    </tr>\n",
       "  </thead>\n",
       "  <tbody>\n",
       "    <tr>\n",
       "      <th>0</th>\n",
       "      <td>0</td>\n",
       "      <td>대전광역시 대덕구 대화동</td>\n",
       "      <td>27-7</td>\n",
       "      <td>27</td>\n",
       "      <td>7</td>\n",
       "      <td>금강</td>\n",
       "      <td>56.2600</td>\n",
       "      <td>202005</td>\n",
       "      <td>25</td>\n",
       "      <td>7,000</td>\n",
       "      <td>5</td>\n",
       "      <td>1978</td>\n",
       "      <td>대전로 1247</td>\n",
       "      <td>0</td>\n",
       "    </tr>\n",
       "    <tr>\n",
       "      <th>1</th>\n",
       "      <td>1</td>\n",
       "      <td>대전광역시 대덕구 대화동</td>\n",
       "      <td>16-2</td>\n",
       "      <td>16</td>\n",
       "      <td>2</td>\n",
       "      <td>금성백조</td>\n",
       "      <td>63.0750</td>\n",
       "      <td>202005</td>\n",
       "      <td>11</td>\n",
       "      <td>8,700</td>\n",
       "      <td>3</td>\n",
       "      <td>1985</td>\n",
       "      <td>대화로 19</td>\n",
       "      <td>0</td>\n",
       "    </tr>\n",
       "    <tr>\n",
       "      <th>2</th>\n",
       "      <td>2</td>\n",
       "      <td>대전광역시 대덕구 대화동</td>\n",
       "      <td>16-2</td>\n",
       "      <td>16</td>\n",
       "      <td>2</td>\n",
       "      <td>금성백조</td>\n",
       "      <td>70.4250</td>\n",
       "      <td>202005</td>\n",
       "      <td>26</td>\n",
       "      <td>9,000</td>\n",
       "      <td>5</td>\n",
       "      <td>1985</td>\n",
       "      <td>대화로 19</td>\n",
       "      <td>0</td>\n",
       "    </tr>\n",
       "    <tr>\n",
       "      <th>3</th>\n",
       "      <td>3</td>\n",
       "      <td>대전광역시 대덕구 대화동</td>\n",
       "      <td>40-67</td>\n",
       "      <td>40</td>\n",
       "      <td>67</td>\n",
       "      <td>대화</td>\n",
       "      <td>49.0000</td>\n",
       "      <td>202005</td>\n",
       "      <td>12</td>\n",
       "      <td>3,400</td>\n",
       "      <td>3</td>\n",
       "      <td>1979</td>\n",
       "      <td>대화로 53</td>\n",
       "      <td>0</td>\n",
       "    </tr>\n",
       "    <tr>\n",
       "      <th>4</th>\n",
       "      <td>4</td>\n",
       "      <td>대전광역시 대덕구 대화동</td>\n",
       "      <td>31-36</td>\n",
       "      <td>31</td>\n",
       "      <td>36</td>\n",
       "      <td>두레</td>\n",
       "      <td>35.8818</td>\n",
       "      <td>202005</td>\n",
       "      <td>4</td>\n",
       "      <td>7,500</td>\n",
       "      <td>2</td>\n",
       "      <td>2001</td>\n",
       "      <td>대화1길 77</td>\n",
       "      <td>0</td>\n",
       "    </tr>\n",
       "    <tr>\n",
       "      <th>...</th>\n",
       "      <td>...</td>\n",
       "      <td>...</td>\n",
       "      <td>...</td>\n",
       "      <td>...</td>\n",
       "      <td>...</td>\n",
       "      <td>...</td>\n",
       "      <td>...</td>\n",
       "      <td>...</td>\n",
       "      <td>...</td>\n",
       "      <td>...</td>\n",
       "      <td>...</td>\n",
       "      <td>...</td>\n",
       "      <td>...</td>\n",
       "      <td>...</td>\n",
       "    </tr>\n",
       "    <tr>\n",
       "      <th>2301</th>\n",
       "      <td>2301</td>\n",
       "      <td>대전광역시 중구 태평동</td>\n",
       "      <td>389-5</td>\n",
       "      <td>389</td>\n",
       "      <td>5</td>\n",
       "      <td>파라곤</td>\n",
       "      <td>84.2360</td>\n",
       "      <td>202005</td>\n",
       "      <td>16</td>\n",
       "      <td>36,000</td>\n",
       "      <td>6</td>\n",
       "      <td>2005</td>\n",
       "      <td>유등천동로 428</td>\n",
       "      <td>0</td>\n",
       "    </tr>\n",
       "    <tr>\n",
       "      <th>2302</th>\n",
       "      <td>2302</td>\n",
       "      <td>대전광역시 중구 태평동</td>\n",
       "      <td>389-5</td>\n",
       "      <td>389</td>\n",
       "      <td>5</td>\n",
       "      <td>파라곤</td>\n",
       "      <td>106.3750</td>\n",
       "      <td>202005</td>\n",
       "      <td>23</td>\n",
       "      <td>43,000</td>\n",
       "      <td>16</td>\n",
       "      <td>2005</td>\n",
       "      <td>유등천동로 428</td>\n",
       "      <td>0</td>\n",
       "    </tr>\n",
       "    <tr>\n",
       "      <th>2303</th>\n",
       "      <td>2303</td>\n",
       "      <td>대전광역시 중구 태평동</td>\n",
       "      <td>254-4</td>\n",
       "      <td>254</td>\n",
       "      <td>4</td>\n",
       "      <td>푸른뫼</td>\n",
       "      <td>84.9900</td>\n",
       "      <td>202005</td>\n",
       "      <td>16</td>\n",
       "      <td>29,500</td>\n",
       "      <td>8</td>\n",
       "      <td>1999</td>\n",
       "      <td>수침로 122</td>\n",
       "      <td>0</td>\n",
       "    </tr>\n",
       "    <tr>\n",
       "      <th>2304</th>\n",
       "      <td>2304</td>\n",
       "      <td>대전광역시 중구 태평동</td>\n",
       "      <td>254-4</td>\n",
       "      <td>254</td>\n",
       "      <td>4</td>\n",
       "      <td>푸른뫼</td>\n",
       "      <td>84.9900</td>\n",
       "      <td>202005</td>\n",
       "      <td>23</td>\n",
       "      <td>29,700</td>\n",
       "      <td>21</td>\n",
       "      <td>1999</td>\n",
       "      <td>수침로 122</td>\n",
       "      <td>0</td>\n",
       "    </tr>\n",
       "    <tr>\n",
       "      <th>2305</th>\n",
       "      <td>2305</td>\n",
       "      <td>대전광역시 중구 태평동</td>\n",
       "      <td>254-4</td>\n",
       "      <td>254</td>\n",
       "      <td>4</td>\n",
       "      <td>푸른뫼</td>\n",
       "      <td>84.9900</td>\n",
       "      <td>202005</td>\n",
       "      <td>28</td>\n",
       "      <td>27,000</td>\n",
       "      <td>16</td>\n",
       "      <td>1999</td>\n",
       "      <td>수침로 122</td>\n",
       "      <td>0</td>\n",
       "    </tr>\n",
       "  </tbody>\n",
       "</table>\n",
       "<p>2306 rows × 14 columns</p>\n",
       "</div>"
      ],
      "text/plain": [
       "      Unnamed: 0            시군구     번지   본번  부번   단지명   전용면적(㎡)    계약년월  계약일  \\\n",
       "0              0  대전광역시 대덕구 대화동   27-7   27   7    금강   56.2600  202005   25   \n",
       "1              1  대전광역시 대덕구 대화동   16-2   16   2  금성백조   63.0750  202005   11   \n",
       "2              2  대전광역시 대덕구 대화동   16-2   16   2  금성백조   70.4250  202005   26   \n",
       "3              3  대전광역시 대덕구 대화동  40-67   40  67    대화   49.0000  202005   12   \n",
       "4              4  대전광역시 대덕구 대화동  31-36   31  36    두레   35.8818  202005    4   \n",
       "...          ...            ...    ...  ...  ..   ...       ...     ...  ...   \n",
       "2301        2301   대전광역시 중구 태평동  389-5  389   5   파라곤   84.2360  202005   16   \n",
       "2302        2302   대전광역시 중구 태평동  389-5  389   5   파라곤  106.3750  202005   23   \n",
       "2303        2303   대전광역시 중구 태평동  254-4  254   4   푸른뫼   84.9900  202005   16   \n",
       "2304        2304   대전광역시 중구 태평동  254-4  254   4   푸른뫼   84.9900  202005   23   \n",
       "2305        2305   대전광역시 중구 태평동  254-4  254   4   푸른뫼   84.9900  202005   28   \n",
       "\n",
       "     거래금액(만원)   층  건축년도        도로명  계약날짜  \n",
       "0       7,000   5  1978   대전로 1247     0  \n",
       "1       8,700   3  1985     대화로 19     0  \n",
       "2       9,000   5  1985     대화로 19     0  \n",
       "3       3,400   3  1979     대화로 53     0  \n",
       "4       7,500   2  2001    대화1길 77     0  \n",
       "...       ...  ..   ...        ...   ...  \n",
       "2301   36,000   6  2005  유등천동로 428     0  \n",
       "2302   43,000  16  2005  유등천동로 428     0  \n",
       "2303   29,500   8  1999    수침로 122     0  \n",
       "2304   29,700  21  1999    수침로 122     0  \n",
       "2305   27,000  16  1999    수침로 122     0  \n",
       "\n",
       "[2306 rows x 14 columns]"
      ]
     },
     "execution_count": 19,
     "metadata": {},
     "output_type": "execute_result"
    }
   ],
   "source": [
    "test = pd.read_csv('./data/test.csv')\n",
    "test"
   ]
  },
  {
   "cell_type": "markdown",
   "metadata": {},
   "source": [
    "# Chapter 2. mysql활용하기\n",
    "사용 라이브러리 :  \n",
    "```python\n",
    "import pymysql\n",
    "from sqlalchemy import create_engine\n",
    "```\n",
    "만일 없다면,, :\n",
    "```python\n",
    "! pip install PyMySQL\n",
    "! pip install SQLAlchemy\n",
    "```"
   ]
  },
  {
   "cell_type": "code",
   "execution_count": null,
   "metadata": {},
   "outputs": [],
   "source": [
    "# 에러가 없어야함\n",
    "import pymysql\n",
    "from sqlalchemy import create_engine"
   ]
  },
  {
   "cell_type": "code",
   "execution_count": null,
   "metadata": {},
   "outputs": [],
   "source": [
    "# 설치 필요한 경우\n"
   ]
  },
  {
   "cell_type": "markdown",
   "metadata": {},
   "source": [
    "### DB 연결\n",
    "```python\n",
    "db_connection_str = 'mysql+pymysql://[계정이름]:[비밀번호]@[주소]:[포트]/[데이터베이스이름]'\n",
    "db_connection = create_engine(db_connection_str)\n",
    "conn = db_connection.connect()\n",
    "```\n",
    "내가 데이터베이스 hongju에 daejeon 테이블 만들어놨다 !!!  \n",
    "```\n",
    "CREATE TABLE `hongju`.`daejeon` (\n",
    "  `시군구` VARCHAR(45) NULL,\n",
    "  `num` INT NOT NULL AUTO_INCREMENT,\n",
    "  `전용면적` VARCHAR(45) NULL,\n",
    "  `계약날짜` DATE NULL,\n",
    "  `도로명주소` VARCHAR(300) NULL,\n",
    "  `층` VARCHAR(45) NULL,\n",
    "  `건축년도` INT NULL,\n",
    "  PRIMARY KEY (`num`));\n",
    "```"
   ]
  },
  {
   "cell_type": "code",
   "execution_count": null,
   "metadata": {},
   "outputs": [],
   "source": [
    "# 실습 : 우리 서버디비에 hongju데이터베이스 접속하기\n"
   ]
  },
  {
   "cell_type": "markdown",
   "metadata": {},
   "source": [
    "현재 daejeon테이블에 보면 \n",
    "**num, 시군구, 전용면적, 계약날짜, 도로명주소, 층, 건축년도** 가 있어요\n",
    "\n",
    "지금 우리가 갖고있는 df는\n",
    "<code>df.dtypes</code>를 하면 아래와같이 나옵니다.\n",
    "```\n",
    "시군구        object\n",
    "번지         object\n",
    "본번          int64\n",
    "부번          int64\n",
    "단지명        object\n",
    "전용면적      float64\n",
    "계약년월       object\n",
    "계약일        object\n",
    "거래금액       object\n",
    "층           int64\n",
    "건축년도        int64\n",
    "도로명        object\n",
    "계약날짜       object\n",
    "도로명주소      object\n",
    "dtype: object\n",
    "```"
   ]
  },
  {
   "cell_type": "code",
   "execution_count": null,
   "metadata": {},
   "outputs": [],
   "source": [
    "# 실습 : selected_df에 시군구, 전용면적, 계약날짜, 도로명주소, 층, 건축년도  칼럼만 담아보자 !\n"
   ]
  },
  {
   "cell_type": "code",
   "execution_count": null,
   "metadata": {},
   "outputs": [],
   "source": [
    "selected_df"
   ]
  },
  {
   "cell_type": "markdown",
   "metadata": {},
   "source": [
    "### how to 데이터베이스에 데이터 프레임넣기\n",
    "```python\n",
    "df.to_sql(name='db의 테이블이름', con=db_connection, if_exists='append',index=False)  \n",
    "```\n",
    "\n",
    "**con** : con에 연결되는 db_connection은 create_engine()를 담은 변수를 써주면 된다. \n",
    "\n",
    "\n",
    "**if_exists** : [fail, replace, append] -> 테이블이 이미 존재하는 경우 어떻게 할지에 대한 옵션  \n",
    "\n",
    "\n",
    "**fail** : ValueError 발생  \n",
    "\n",
    "\n",
    "**append** : 존재하는 테이블에 값 저장  \n",
    "append의 경우는 기존에 있는 테이블에 저장을 하는 것이여서 저장할 데이터프레임의 길이나 타입이 맞지않는다면 오류가 난다.  \n",
    "\n",
    "\n",
    "**replace** : 테이블 지우고 새로 생성 후 값 저장  \n",
    "replace는 새로 데이터프레임 타입에 맞춰 테이블이 생성되므로 데이터프레임 타입이 object일땐 mysql에서는 TEXT로 생겼다.  \n",
    "dtype옵션을 줘서 타입을 맞춰줄 수 있다.  "
   ]
  },
  {
   "cell_type": "code",
   "execution_count": null,
   "metadata": {},
   "outputs": [],
   "source": [
    "# 실습, daejeon테이블에 selected_df를 저장해보기\n"
   ]
  },
  {
   "cell_type": "markdown",
   "metadata": {},
   "source": [
    "---\n",
    "### 데이터베이스에서 테이블을 데이터프레임으로 불러오기\n",
    "db연결을 아직 안끊었으니까 around테이블을 불러오자 !\n",
    "```python\n",
    "pd.read_sql(\"SELECT * from [특정테이블명]\", con=conn)\n",
    "```\n",
    "이제 쓸 일 없으니까 <code>conn.close()</code>로 꼭꼭 연결끊기 !"
   ]
  },
  {
   "cell_type": "code",
   "execution_count": null,
   "metadata": {},
   "outputs": [],
   "source": [
    "# 실습 : around 테이블을 데이터베이스에서 불러와서 데이터프레임으로 변환한 후, around 변수에 할당하기\n"
   ]
  },
  {
   "cell_type": "code",
   "execution_count": null,
   "metadata": {},
   "outputs": [],
   "source": [
    "# 실습 : db연결 종료하기\n"
   ]
  },
  {
   "cell_type": "markdown",
   "metadata": {},
   "source": [
    "# Chapter 3. 심화1 - 그룹화\n",
    "지금 우리 수중에 있는 데이터프레임은 2개  \n",
    "1. db에 막 업로드한 selected_df  \n",
    "2. db에서 불러온 around  \n",
    "\n",
    "심화에서 할 내용 :  \n",
    "1. selected_df와 around테이블을 도로명주소, address로 묶어보자\n",
    "2. 시군구로 묶어 각 시군구에 몇개의 around가 속해있는지 보자"
   ]
  },
  {
   "cell_type": "markdown",
   "metadata": {},
   "source": [
    "### step 1. selected_df와 around테이블을 도로명주소, address로 묶어보자\n",
    ">Q. 선생님 어떻게 묶나요.. 무슨소린지도 모르겠어요..  \n",
    ">A. pd.merge()를 이용하면 됩니다 !  \n",
    ">Q. ???!  \n",
    "\n",
    "데이터프레임 두개를 묶을 때는 2가지 방법이 있읍니다..  \n",
    "1. concat : 동일한 index,혹은 column을 가진 경우 연속적으로 붙이기\n",
    "2. merge : 공통된 하나의 열이나 행을 기준으로 동일한 값을 가지는 행을 dataframe에서 찾은 뒤, n x m개 조합으로 행을 모두 가지도록 합치는 경우  \n",
    "\n",
    "\n",
    "나는 주로 merge를 쓰지 ~!  \n",
    "merge는 집합을 생각하면 좋습니다 ! \n",
    "```python\n",
    "pd.merge(zoo,zoo_eats, how='inner')\n",
    "```\n",
    "이런 방식으로 어느 데이터프레임들을 묶을지, 어떤방식을 사용할 지 ! 적으면 됩니다.\n",
    "left_on, right_on을 적어주지않으면 기본적으로 같은 이름을 가지는 컬럼들을 기준으로 진행합니다.(아마도)\n",
    "\n",
    "![img](https://data36.com/wp-content/uploads/2018/08/4-pandas-merge-inner-outer-left-right-1024x771.png)\n",
    "\n",
    "---\n",
    "concat : https://pandas.pydata.org/pandas-docs/stable/reference/api/pandas.concat.html  \n",
    "merge : https://pandas.pydata.org/pandas-docs/stable/reference/api/pandas.merge.html  \n",
    "\n",
    "---\n",
    "\n"
   ]
  },
  {
   "cell_type": "markdown",
   "metadata": {},
   "source": [
    "select_df - 도로명주소  \n",
    "around - address 칼럼을 기준으로 merge를 해봅시다 !"
   ]
  },
  {
   "cell_type": "code",
   "execution_count": null,
   "metadata": {},
   "outputs": [],
   "source": [
    "# 실습 : merge해서 t 변수에 담기\n"
   ]
  },
  {
   "cell_type": "code",
   "execution_count": null,
   "metadata": {
    "scrolled": true
   },
   "outputs": [],
   "source": [
    "# 실습 : 가장 위의 1개 row만 가져오기\n"
   ]
  },
  {
   "cell_type": "markdown",
   "metadata": {},
   "source": [
    "### groupby해보기  \n",
    "\n",
    "이제 t 데이터프레임에서 같은 시군구를 가진 around들이 몇개가 있는지 봐볼까요??  \n",
    "기억이 날진 모르겠지만,, t에서 시군구를 가지고 갯수 카운트를 해봅시다"
   ]
  },
  {
   "cell_type": "code",
   "execution_count": null,
   "metadata": {},
   "outputs": [],
   "source": [
    "# 실습 : t 데이터프레임의 시군구를 가지고 몇개씩 있는지 확인해보기\n"
   ]
  },
  {
   "cell_type": "markdown",
   "metadata": {},
   "source": [
    "groupby는 말그대로 기준을 가지고 그룹을 짓는 거에요  \n",
    "**데이터프레임.groupby('기준컬럼')** 이런식으로 합니다  \n",
    "t를 시군구로 묶어볼게요"
   ]
  },
  {
   "cell_type": "code",
   "execution_count": null,
   "metadata": {},
   "outputs": [],
   "source": [
    "groupby_sgg = t.groupby('시군구')"
   ]
  },
  {
   "cell_type": "code",
   "execution_count": null,
   "metadata": {},
   "outputs": [],
   "source": [
    "groupby_sgg.groups"
   ]
  },
  {
   "cell_type": "markdown",
   "metadata": {},
   "source": [
    ">Q. 엥.. 이거 보기에 너무 안좋은데요 ... 제가필요한건 그냥 그룹의 개수에요 ...  \n",
    ">A. 그럴 땐 agg를 쓰면 됩니다 !  \n",
    ">Q. ???!  \n",
    "\n",
    "\n",
    "함수는 mean, size, min, max 등 기본제공되는 함수가있고, 내가만든 함수를 대입할수도 있어요\n",
    "```python\n",
    "groupby_sgg.agg(count=('대상칼럼','함수이름')) # count라는 이름의 컬럼에 넣어줄게\n",
    "```\n",
    "\n"
   ]
  },
  {
   "cell_type": "code",
   "execution_count": null,
   "metadata": {},
   "outputs": [],
   "source": [
    "# 실습 : groupby_sgg를 around_id의 갯수로 그룹해서 count라는 이름의 컬럼에 출력\n",
    "# 실습 : count 정렬하기\n",
    "# 힌트 : 대상.sort_values(by=\"기준\", ascending=False)\n"
   ]
  },
  {
   "cell_type": "markdown",
   "metadata": {},
   "source": [
    "# Chapter 4. 심화2 - 간단한 시각화(참고용)  \n",
    "그래프를 그리기 위해 matplotlib을 추가합니다  \n",
    "set_config는 한글폰트를 위한것이므로 가-무(가볍게 무시)  \n",
    "seaborn쓰면 더 많이 그릴수있을텐데 생략.. 알아보세요 ;;;  \n",
    "https://seaborn.pydata.org/tutorial.html"
   ]
  },
  {
   "cell_type": "code",
   "execution_count": null,
   "metadata": {},
   "outputs": [],
   "source": [
    "import matplotlib as plt\n",
    "import matplotlib.font_manager as fm\n",
    "def set_config():\n",
    "    # 폰트, 그래프 색상 설정\n",
    "    font_list = fm.findSystemFonts(fontpaths=None, fontext=\"ttf\")\n",
    "    if any([\"notosanscjk\" in font.lower() for font in font_list]):\n",
    "        plt.rcParams[\"font.family\"] = \"Noto Sans CJK JP\"\n",
    "    else:\n",
    "        if not any([\"malgun\" in font.lower() for font in font_list]):\n",
    "            raise Exception(\n",
    "                \"Font missing, please install Noto Sans CJK or Malgun Gothic. If you're using ubuntu, try `sudo apt install fonts-noto-cjk`\"\n",
    "            )\n",
    "\n",
    "        plt.rcParams[\"font.family\"] = \"Malgun Gothic\"\n",
    "\n",
    "    sns.set_palette(sns.color_palette(\"Spectral\"))\n",
    "    plt.rc(\"xtick\", labelsize=6)\n",
    "set_config()"
   ]
  },
  {
   "cell_type": "code",
   "execution_count": null,
   "metadata": {},
   "outputs": [],
   "source": [
    "plt.rcParams[\"figure.figsize\"] = (10,15) # 차트 사이즈\n",
    "t['시군구'].value_counts().plot(kind='barh')"
   ]
  }
 ],
 "metadata": {
  "kernelspec": {
   "display_name": "Python 3.6.8 64-bit ('pjt': conda)",
   "language": "python",
   "name": "python36864bitpjtconda1e9c40e629b74f2db509b950fcc5466e"
  },
  "language_info": {
   "codemirror_mode": {
    "name": "ipython",
    "version": 3
   },
   "file_extension": ".py",
   "mimetype": "text/x-python",
   "name": "python",
   "nbconvert_exporter": "python",
   "pygments_lexer": "ipython3",
   "version": "3.6.8"
  }
 },
 "nbformat": 4,
 "nbformat_minor": 4
}
